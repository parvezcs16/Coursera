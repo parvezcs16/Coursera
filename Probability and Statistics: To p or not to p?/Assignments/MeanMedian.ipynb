{
 "cells": [
  {
   "cell_type": "markdown",
   "metadata": {},
   "source": [
    "# Assignment#01     \n",
    "### Prepared by: Parvez Ali &Ahsan Raza\n",
    "## Probability and Statistics"
   ]
  },
  {
   "cell_type": "markdown",
   "metadata": {},
   "source": [
    "# Finding Mean, Median, Variance, and Standard Deviation of Sample Data without using builtin functions."
   ]
  },
  {
   "cell_type": "markdown",
   "metadata": {},
   "source": [
    "### Define the values for Grouped data"
   ]
  },
  {
   "cell_type": "code",
   "execution_count": 108,
   "metadata": {},
   "outputs": [],
   "source": [
    "#Define values for X\n",
    "#X = [5,7,3,8,9,4,6]\n",
    "X= [4, 17, 7, 14, 18, 12, 3, 16, 10, 4, 4, 11]"
   ]
  },
  {
   "cell_type": "code",
   "execution_count": 109,
   "metadata": {},
   "outputs": [],
   "source": [
    "#_sum_of_X() return the Sum of total sample.\n",
    "def _sum_of_X():\n",
    "    total = 0\n",
    "    for i in range(len(X)):\n",
    "        total=total+X[i]\n",
    "    return total"
   ]
  },
  {
   "cell_type": "markdown",
   "metadata": {},
   "source": [
    "# Mean Of Sample Data:       \n",
    "\n",
    "The mean (or arithmetic mean) of n observations (variates) x1, x2, x3, x4, ....., xn is given by\n",
    "\n",
    "Mean = x1+x2+x3+x4+....+xn/n\n",
    "\n",
    "In words, mean = Sum of the Variables/Total Number of Variates\n",
    "\n",
    "Symbolically, Mean = ∑xi/n; i = 1, 2, 3, 4, ...., n."
   ]
  },
  {
   "cell_type": "code",
   "execution_count": 110,
   "metadata": {},
   "outputs": [],
   "source": [
    "#_Mean() return the Mean of Sample\n",
    "def _Mean():\n",
    "    X_bar = _sum_of_X()/(len(X))\n",
    "    return X_bar\n"
   ]
  },
  {
   "cell_type": "markdown",
   "metadata": {},
   "source": [
    "# We Sorted the Sample to find_out the Median of Sample"
   ]
  },
  {
   "cell_type": "code",
   "execution_count": 111,
   "metadata": {},
   "outputs": [],
   "source": [
    "#_sort_X() return the Sorted List of Sample\n",
    "def _sort_X():\n",
    "    temp=0\n",
    "    _X_sorted = X\n",
    "    for i in range(len(_X_sorted)):\n",
    "        for j in range(len(_X_sorted)):\n",
    "            if(_X_sorted[i]<_X_sorted[j]):\n",
    "                temp=_X_sorted[i]\n",
    "                _X_sorted[i]=_X_sorted[j]\n",
    "                _X_sorted[j]=temp\n",
    "    return _X_sorted\n",
    "_sorted_X = _sort_X()"
   ]
  },
  {
   "cell_type": "markdown",
   "metadata": {},
   "source": [
    "# Min and Max of Sample"
   ]
  },
  {
   "cell_type": "code",
   "execution_count": 112,
   "metadata": {},
   "outputs": [],
   "source": [
    "# _Min() return the Minimum value of Sample\n",
    "def _Min():\n",
    "    return _sorted_X[0]\n"
   ]
  },
  {
   "cell_type": "code",
   "execution_count": 113,
   "metadata": {},
   "outputs": [],
   "source": [
    "# _Max() return the Maximum value of Sample\n",
    "def _Max():\n",
    "    return _sorted_X[-1]\n"
   ]
  },
  {
   "cell_type": "markdown",
   "metadata": {},
   "source": [
    "# Median of Sample\n",
    "## For Even number of Samples\n",
    "M=Value of (n/2)th observation + Value of(n/2+1)th observation/2\n",
    "## For Odd number of Samples\n",
    " M= value of (n+1/2)th observation\n"
   ]
  },
  {
   "cell_type": "code",
   "execution_count": 114,
   "metadata": {},
   "outputs": [],
   "source": [
    "# _Median() return the Median of Sample\n",
    "def _Median():\n",
    "    if(len(_sorted_X)%2==0):\n",
    "        index_1 = int(len(_sorted_X)/2)\n",
    "        index_2 = index_1-1\n",
    "        avg = (_sorted_X[index_1]+_sorted_X[index_2])/2\n",
    "        return avg\n",
    "    else:\n",
    "        med = _sorted_X[int(len(_sorted_X)/2)]\n",
    "        return med\n"
   ]
  },
  {
   "cell_type": "markdown",
   "metadata": {},
   "source": [
    "# Quartiles\n",
    "## Quartile 1 (Q1) 25%= 1/4(n+1)th Value\n",
    "## Quartile 2 (Q2) = 2/4(n+1)th Value => Median\n",
    "## Quartile 3 (Q3) 75%= 3/4(n+1)th Value\n"
   ]
  },
  {
   "cell_type": "code",
   "execution_count": 115,
   "metadata": {},
   "outputs": [],
   "source": [
    "def _Quartile_1():\n",
    "    if(len(_sorted_X)%2==0):\n",
    "        index_1 = int((len(_sorted_X)+1)/4)\n",
    "        index_2 = index_1-1\n",
    "        return (_sorted_X[index_1]+_sorted_X[index_2])/2\n",
    "    else:\n",
    "        index = int((len(_sorted_X)+1)/4)\n",
    "        return _sorted_X[index]\n"
   ]
  },
  {
   "cell_type": "code",
   "execution_count": 116,
   "metadata": {},
   "outputs": [],
   "source": [
    "def _Quartile_2():\n",
    "    return _Median()"
   ]
  },
  {
   "cell_type": "code",
   "execution_count": 117,
   "metadata": {},
   "outputs": [],
   "source": [
    "def _Quartile_3():\n",
    "    if(len(_sorted_X)%2==0):    \n",
    "        index_1 = int(3*(len(_sorted_X)+1)/4)\n",
    "        index_2 = index_1-1\n",
    "        return (_sorted_X[index_1]+_sorted_X[index_2])/2\n",
    "    else:\n",
    "        index = int(3*(len(_sorted_X)+1)/4)\n",
    "        return _sorted_X[index]"
   ]
  },
  {
   "cell_type": "markdown",
   "metadata": {},
   "source": [
    "# Variance formula\n",
    "This calculator uses the following formulas for calculating the variance:\n",
    "\n",
    "The formula for the variance of a sample n is:\n",
    "\n",
    "$ s^2 ={\\frac{1}{n-1} \\sum_{i=1}^n (x_i-\\bar{x})^2$"
   ]
  },
  {
   "cell_type": "code",
   "execution_count": 118,
   "metadata": {},
   "outputs": [],
   "source": [
    "# _Variance() return the Variance of Sample.\n",
    "def _Variance():\n",
    "    sum = 0\n",
    "    total = 0\n",
    "    mean= _Mean()\n",
    "    Xi = X\n",
    "    for i in range (len(Xi)):\n",
    "        sum = (Xi[i]-mean)**2\n",
    "        total += sum\n",
    "    variance = total/(len(Xi)-1)\n",
    "    return variance\n",
    "    "
   ]
  },
  {
   "cell_type": "markdown",
   "metadata": {},
   "source": [
    "# Standard Deviation Formula\n",
    "\\sigma={\\sqrt {\\frac {\\sum(x_{i}-{\\mu})^{2}}{N}}}"
   ]
  },
  {
   "cell_type": "code",
   "execution_count": 119,
   "metadata": {},
   "outputs": [],
   "source": [
    "# _Standard_Deviation() return the Standard Deviation of Sample.\n",
    "def _Standard_Deviation():\n",
    "    sd = _Variance()**1/2\n",
    "    return sd"
   ]
  },
  {
   "cell_type": "code",
   "execution_count": 120,
   "metadata": {},
   "outputs": [],
   "source": [
    "list = {'Min':_Min(),'Max':_Max(),'Mean(n)':_Mean(),'Median':_Median(),'Quartile_1(25%)':_Quartile_1(),'Quartile_2(Median)':_Quartile_2(),'Quartile_3(75%)':_Quartile_3(),'Variance':_Variance(), 'Standard deviation':_Standard_Deviation()}\n"
   ]
  },
  {
   "cell_type": "code",
   "execution_count": 123,
   "metadata": {},
   "outputs": [
    {
     "name": "stdout",
     "output_type": "stream",
     "text": [
      " We have Calculated For your Conveniance the operations mentioned above in the heading:\n"
     ]
    },
    {
     "data": {
      "text/html": [
       "<div>\n",
       "<style scoped>\n",
       "    .dataframe tbody tr th:only-of-type {\n",
       "        vertical-align: middle;\n",
       "    }\n",
       "\n",
       "    .dataframe tbody tr th {\n",
       "        vertical-align: top;\n",
       "    }\n",
       "\n",
       "    .dataframe thead th {\n",
       "        text-align: right;\n",
       "    }\n",
       "</style>\n",
       "<table border=\"1\" class=\"dataframe\">\n",
       "  <thead>\n",
       "    <tr style=\"text-align: right;\">\n",
       "      <th></th>\n",
       "      <th>0</th>\n",
       "    </tr>\n",
       "  </thead>\n",
       "  <tbody>\n",
       "    <tr>\n",
       "      <th>Min</th>\n",
       "      <td>3.000000</td>\n",
       "    </tr>\n",
       "    <tr>\n",
       "      <th>Max</th>\n",
       "      <td>18.000000</td>\n",
       "    </tr>\n",
       "    <tr>\n",
       "      <th>Mean(n)</th>\n",
       "      <td>10.000000</td>\n",
       "    </tr>\n",
       "    <tr>\n",
       "      <th>Median</th>\n",
       "      <td>10.500000</td>\n",
       "    </tr>\n",
       "    <tr>\n",
       "      <th>Quartile_1(25%)</th>\n",
       "      <td>4.000000</td>\n",
       "    </tr>\n",
       "    <tr>\n",
       "      <th>Quartile_2(Median)</th>\n",
       "      <td>10.500000</td>\n",
       "    </tr>\n",
       "    <tr>\n",
       "      <th>Quartile_3(75%)</th>\n",
       "      <td>15.000000</td>\n",
       "    </tr>\n",
       "    <tr>\n",
       "      <th>Variance</th>\n",
       "      <td>30.545455</td>\n",
       "    </tr>\n",
       "    <tr>\n",
       "      <th>Standard deviation</th>\n",
       "      <td>15.272727</td>\n",
       "    </tr>\n",
       "  </tbody>\n",
       "</table>\n",
       "</div>"
      ],
      "text/plain": [
       "                            0\n",
       "Min                  3.000000\n",
       "Max                 18.000000\n",
       "Mean(n)             10.000000\n",
       "Median              10.500000\n",
       "Quartile_1(25%)      4.000000\n",
       "Quartile_2(Median)  10.500000\n",
       "Quartile_3(75%)     15.000000\n",
       "Variance            30.545455\n",
       "Standard deviation  15.272727"
      ]
     },
     "execution_count": 123,
     "metadata": {},
     "output_type": "execute_result"
    }
   ],
   "source": [
    "#The only module Pandas added to make data More Understanable\n",
    "import pandas as pd\n",
    "data = pd.DataFrame.from_dict(list,orient='index')\n",
    "print(\" We have Calculated For your Conveniance the operations mentioned above in the heading:\")\n",
    "data"
   ]
  },
  {
   "cell_type": "code",
   "execution_count": null,
   "metadata": {},
   "outputs": [],
   "source": []
  }
 ],
 "metadata": {
  "kernelspec": {
   "display_name": "Python 3",
   "language": "python",
   "name": "python3"
  },
  "language_info": {
   "codemirror_mode": {
    "name": "ipython",
    "version": 3
   },
   "file_extension": ".py",
   "mimetype": "text/x-python",
   "name": "python",
   "nbconvert_exporter": "python",
   "pygments_lexer": "ipython3",
   "version": "3.7.1"
  }
 },
 "nbformat": 4,
 "nbformat_minor": 2
}

{
 "cells": [
  {
   "cell_type": "markdown",
   "metadata": {},
   "source": [
    "# Final Assignment: Hypothesis Testing\n",
    "## Probability & Statistics\n",
    "   ## <p style='text-align: right'>Prepared by: Parvez Ali</p>                 \n",
    "   ## <p style='text-align: right'>CMS_ID: 053-16-0028</p>"
   ]
  },
  {
   "cell_type": "markdown",
   "metadata": {},
   "source": [
    "### Importing important Libraries/Modules which used throughout the Assignment."
   ]
  },
  {
   "cell_type": "code",
   "execution_count": 2,
   "metadata": {},
   "outputs": [],
   "source": [
    "import numpy as np\n",
    "import scipy.stats as st\n",
    "import matplotlib.patches as mpatches\n",
    "import matplotlib.pyplot as plt"
   ]
  },
  {
   "cell_type": "markdown",
   "metadata": {},
   "source": [
    "## Provide Null-hypothesis value, and alternative hypothesis values in below Variables\n",
    "## H0 , Ha respectively: "
   ]
  },
  {
   "cell_type": "code",
   "execution_count": 22,
   "metadata": {},
   "outputs": [],
   "source": [
    "#Provided values for Null-Hypothsis and Alternative Hypothesis respectively are given below: \n",
    "H0 = 500\n",
    "Ha != 500\n",
    "\n",
    "#Conluded that \n",
    "mu = 500  # mu --> μ\n",
    "\n",
    "#Significance Level\n",
    "sl = 0.01 # sl --> Significance level.\n",
    "\n",
    "#For a Population of mean Testing, Provide the information below\n",
    "observations = [501,500,500,499,498,498,500,500,500,503,499,499] #Raw Observations\n",
    "\n",
    "stdDeviation = 2.5\n",
    "n = len(observations) # n -->Total number of Samples"
   ]
  },
  {
   "cell_type": "markdown",
   "metadata": {},
   "source": [
    "## Calculate sample mean from the given data\n"
   ]
  },
  {
   "cell_type": "code",
   "execution_count": 23,
   "metadata": {},
   "outputs": [
    {
     "data": {
      "text/plain": [
       "499.75"
      ]
     },
     "execution_count": 23,
     "metadata": {},
     "output_type": "execute_result"
    }
   ],
   "source": [
    "\n",
    "def _sampleMean():\n",
    "    sample_mean = np.sum(observations)/n\n",
    "    return sample_mean\n",
    "\n",
    "\n",
    "x_bar= _sampleMean()\n",
    "\n",
    "x_bar"
   ]
  },
  {
   "cell_type": "markdown",
   "metadata": {},
   "source": [
    "# Calculate the Test Statistic value (Z)"
   ]
  },
  {
   "cell_type": "code",
   "execution_count": 24,
   "metadata": {},
   "outputs": [
    {
     "data": {
      "text/plain": [
       "-0.3464101615137754"
      ]
     },
     "execution_count": 24,
     "metadata": {},
     "output_type": "execute_result"
    }
   ],
   "source": [
    "def _testStatistc():\n",
    "    Z = (x_bar-mu)/(stdDeviation/np.sqrt(n))\n",
    "    return Z\n",
    "z=_testStatistc()\n",
    "z"
   ]
  },
  {
   "cell_type": "markdown",
   "metadata": {},
   "source": [
    "# Calculation of the p-value"
   ]
  },
  {
   "cell_type": "code",
   "execution_count": 25,
   "metadata": {},
   "outputs": [
    {
     "data": {
      "text/plain": [
       "0.7290344895388041"
      ]
     },
     "execution_count": 25,
     "metadata": {},
     "output_type": "execute_result"
    }
   ],
   "source": [
    "\n",
    "def _pValue():\n",
    "    p_v = st.norm.sf(abs(z))*2\n",
    "    return p_v\n",
    "p_value = _pValue()\n",
    "p_value"
   ]
  },
  {
   "cell_type": "markdown",
   "metadata": {},
   "source": [
    "### A decision of whether or not to reject H0"
   ]
  },
  {
   "cell_type": "code",
   "execution_count": 26,
   "metadata": {},
   "outputs": [
    {
     "name": "stderr",
     "output_type": "stream",
     "text": [
      "No handles with labels found to put in legend.\n"
     ]
    },
    {
     "data": {
      "image/png": "[encoded data removed]",
      "text/plain": [
       "<Figure size 432x288 with 1 Axes>"
      ]
     },
     "metadata": {
      "needs_background": "light"
     },
     "output_type": "display_data"
    },
    {
     "name": "stdout",
     "output_type": "stream",
     "text": [
      "P-value decision rule: \n",
      "\t\t\tif the p-value ≤ α ==> Reject H0 \n",
      "\n",
      "Hence  0.7290344895388041 > 0.01 ==> H0 is not Rejected\n"
     ]
    }
   ],
   "source": [
    "\n",
    "x=[-3,-2.5,-2,-1.5,-1 ,-0.5,0,0.5 ,1,1.5,2,2.5,3]\n",
    "y=[-3,-2.5,-2,-1.5,-1 ,-0.5,0,0.5 ,1,1.5,2,2.5,3]\n",
    "plt.scatter(p_value,p_value)\n",
    "plt.scatter(sl,sl)\n",
    "\n",
    "plt.axis([-3,3,-3,3])\n",
    "plt.legend()\n",
    "plt.annotate('P-Value', xy=(p_value, p_value), xytext=(-0.1, 2.5),\n",
    "             arrowprops=dict(facecolor='black', shrink=0.05),\n",
    "             )\n",
    "plt.annotate('Significance Level', xy=(sl,sl), xytext=(-0.1, -2.5),\n",
    "             arrowprops=dict(facecolor='black', shrink=0.05),\n",
    "             )\n",
    "\n",
    "p = mpatches.Patch(color='blue', label='P-Value')\n",
    "s = mpatches.Patch(color='orange', label='Significance Level')\n",
    "\n",
    "plt.legend(handles=[p, s])\n",
    "plt.show()\n",
    "\n",
    "if(p_value>sl):\n",
    "    print('P-value decision rule: \\n\\t\\t\\tif the p-value ≤ α ==> Reject H0 \\n\\nHence ',p_value,'>',sl,'==> H0 is not Rejected')\n",
    "else:\n",
    "    print('P-value decision rule: \\n\\t\\t\\tif the p-value ≤ α ==> Reject H0 \\n\\n Hence ',p_value,'≤',sl,'==> H0 is  Rejected')\n",
    "    "
   ]
  }
 ],
 "metadata": {
  "kernelspec": {
   "display_name": "Python 3",
   "language": "python",
   "name": "python3"
  },
  "language_info": {
   "codemirror_mode": {
    "name": "ipython",
    "version": 3
   },
   "file_extension": ".py",
   "mimetype": "text/x-python",
   "name": "python",
   "nbconvert_exporter": "python",
   "pygments_lexer": "ipython3",
   "version": "3.7.1"
  }
 },
 "nbformat": 4,
 "nbformat_minor": 2
}
